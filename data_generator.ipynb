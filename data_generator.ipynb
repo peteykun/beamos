{
 "cells": [
  {
   "cell_type": "code",
   "execution_count": 1,
   "metadata": {
    "collapsed": true
   },
   "outputs": [],
   "source": [
    "import numpy as np"
   ]
  },
  {
   "cell_type": "code",
   "execution_count": 2,
   "metadata": {
    "collapsed": false
   },
   "outputs": [],
   "source": [
    "# Task:\n",
    "min_length = 5\n",
    "max_length = 16\n",
    "size = 3200\n",
    "\n",
    "train_x = []\n",
    "train_y = []\n",
    "train_s = []\n",
    "\n",
    "valid_x = []\n",
    "valid_y = []\n",
    "valid_s = []\n",
    "\n",
    "test_x = []\n",
    "test_y = []\n",
    "test_s = []\n",
    "\n",
    "for n in range(size):\n",
    "    x = np.random.randint(26, size=max_length) + 1\n",
    "    \n",
    "    # Zero out some of them\n",
    "    to_zero = np.random.randint(max_length - min_length)\n",
    "                                \n",
    "    for i in range(to_zero):\n",
    "        x[i] = 0\n",
    "    \n",
    "    # Formulate target\n",
    "    y = list(x[::-1])\n",
    "    \n",
    "    for i in range(max_length - to_zero):\n",
    "        y[i] -= 13\n",
    "        \n",
    "        if y[i] <= 0:\n",
    "            y[i] += 26\n",
    "            \n",
    "    if n < size * 0.65:\n",
    "        train_x.append(x)\n",
    "        train_y.append(y)\n",
    "        train_s.append(0)\n",
    "        \n",
    "    elif n < size * 0.85:\n",
    "        valid_x.append(x)\n",
    "        valid_y.append(y)\n",
    "        valid_s.append(0)\n",
    "        \n",
    "    else:\n",
    "        test_x.append(x)\n",
    "        test_y.append(y)\n",
    "        test_s.append(0)"
   ]
  },
  {
   "cell_type": "code",
   "execution_count": 3,
   "metadata": {
    "collapsed": false
   },
   "outputs": [
    {
     "name": "stdout",
     "output_type": "stream",
     "text": [
      "2080\n",
      "640\n",
      "480\n"
     ]
    }
   ],
   "source": [
    "assert(len(train_x) == len(train_y))\n",
    "assert(len(train_x) == len(train_s))\n",
    "print len(train_x)\n",
    "\n",
    "assert(len(valid_x) == len(valid_y))\n",
    "assert(len(valid_x) == len(valid_s))\n",
    "print len(valid_x)\n",
    "\n",
    "assert(len(test_x) == len(test_y))\n",
    "assert(len(test_x) == len(test_s))\n",
    "print len(test_x)"
   ]
  },
  {
   "cell_type": "code",
   "execution_count": 4,
   "metadata": {
    "collapsed": true
   },
   "outputs": [],
   "source": [
    "np.save('data/mutated-train.npy', train_x)\n",
    "np.save('data/fixes-train.npy', train_y)\n",
    "np.save('data/select-train.npy', train_s)\n",
    "\n",
    "np.save('data/mutated-validation.npy', valid_x)\n",
    "np.save('data/fixes-validation.npy', valid_y)\n",
    "np.save('data/select-validation.npy', valid_s)\n",
    "\n",
    "np.save('data/mutated-test.npy', test_x)\n",
    "np.save('data/fixes-test.npy', test_y)\n",
    "np.save('data/select-test.npy', test_s)"
   ]
  },
  {
   "cell_type": "code",
   "execution_count": 8,
   "metadata": {
    "collapsed": false
   },
   "outputs": [],
   "source": [
    "# Dictionary\n",
    "dict = {}\n",
    "\n",
    "for i in range(26):\n",
    "    dict[chr(i+97)] = i+1\n",
    "    \n",
    "dict['_pad_'] = 0\n",
    "dict['~'] = 27"
   ]
  },
  {
   "cell_type": "code",
   "execution_count": 9,
   "metadata": {
    "collapsed": false
   },
   "outputs": [],
   "source": [
    "np.save('data/translate_dict.npy', dict)"
   ]
  }
 ],
 "metadata": {
  "kernelspec": {
   "display_name": "Python 2",
   "language": "python",
   "name": "python2"
  },
  "language_info": {
   "codemirror_mode": {
    "name": "ipython",
    "version": 2
   },
   "file_extension": ".py",
   "mimetype": "text/x-python",
   "name": "python",
   "nbconvert_exporter": "python",
   "pygments_lexer": "ipython2",
   "version": "2.7.11"
  }
 },
 "nbformat": 4,
 "nbformat_minor": 0
}
